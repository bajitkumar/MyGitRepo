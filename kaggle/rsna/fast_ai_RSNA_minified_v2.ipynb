{
  "nbformat": 4,
  "nbformat_minor": 0,
  "metadata": {
    "colab": {
      "name": "fast.ai-RSNA-minified-v2.ipynb",
      "version": "0.3.2",
      "provenance": [],
      "collapsed_sections": []
    },
    "kernelspec": {
      "name": "python3",
      "display_name": "Python 3"
    },
    "accelerator": "GPU"
  },
  "cells": [
    {
      "metadata": {
        "id": "qMs8n7QLkdrx",
        "colab_type": "code",
        "colab": {}
      },
      "cell_type": "code",
      "source": [
        "!pip install fastai\n",
        "!apt-get -qq install -y libsm6 libxext6 && pip install -q -U opencv-python\n",
        "import cv2\n",
        "from os import path\n",
        "from wheel.pep425tags import get_abbr_impl, get_impl_ver, get_abi_tag\n",
        "platform = '{}{}-{}'.format(get_abbr_impl(), get_impl_ver(), get_abi_tag())\n",
        "\n",
        "accelerator = 'cu80' if path.exists('/opt/bin/nvidia-smi') else 'cpu'\n",
        "\n",
        "!pip install -q http://download.pytorch.org/whl/{accelerator}/torch-0.3.0.post4-{platform}-linux_x86_64.whl torchvision\n",
        "import torch\n",
        "!pip install Pillow==4.0.0\n",
        "!pip install image"
      ],
      "execution_count": 0,
      "outputs": []
    },
    {
      "metadata": {
        "id": "LNx5Vvjbln-S",
        "colab_type": "code",
        "colab": {}
      },
      "cell_type": "code",
      "source": [
        "%matplotlib inline\n",
        "%reload_ext autoreload\n",
        "%autoreload 2\n",
        "from fastai.imports import *\n",
        "from fastai.conv_learner import *\n",
        "import pandas as pd\n",
        "import numpy as np"
      ],
      "execution_count": 0,
      "outputs": []
    },
    {
      "metadata": {
        "id": "_f8FODgal2F2",
        "colab_type": "code",
        "colab": {
          "base_uri": "https://localhost:8080/",
          "height": 52
        },
        "outputId": "4cf450b7-dc6e-4e8c-de8f-7fa933320ad2"
      },
      "cell_type": "code",
      "source": [
        "print(\"torch.cuda.is_available() = \", torch.cuda.is_available())\n",
        "print(\"torch.backends.cudnn.enabled = \", torch.backends.cudnn.enabled )"
      ],
      "execution_count": 3,
      "outputs": [
        {
          "output_type": "stream",
          "text": [
            "torch.cuda.is_available() =  True\n",
            "torch.backends.cudnn.enabled =  True\n"
          ],
          "name": "stdout"
        }
      ]
    },
    {
      "metadata": {
        "id": "kz7zjJhNmK79",
        "colab_type": "code",
        "colab": {}
      },
      "cell_type": "code",
      "source": [
        "# Install the Kaggle API\n",
        "!pip3 install kaggle"
      ],
      "execution_count": 0,
      "outputs": []
    },
    {
      "metadata": {
        "id": "7Y41rb-8ABKL",
        "colab_type": "text"
      },
      "cell_type": "markdown",
      "source": [
        "# Please Note \n",
        "\n",
        "\n",
        "---\n",
        "\n",
        "Replace ***yourkaggleusername*** and ***yourkagglekey*** with the actual values\n",
        "in the next step:\n",
        "\n",
        "```\n",
        "os.environ[\"KAGGLE_USERNAME\"] = 'yourkaggleusername'\n",
        "os.environ[\"KAGGLE_KEY\"] = 'yourkagglekey'\n",
        "```\n",
        "\n"
      ]
    },
    {
      "metadata": {
        "id": "P3S01TTBo7qO",
        "colab_type": "code",
        "colab": {}
      },
      "cell_type": "code",
      "source": [
        "# Set Environment Variables for Kaggle CLI to use\n",
        "# username and key can be found in the kaggle.json file\n",
        "\n",
        "os.environ[\"KAGGLE_USERNAME\"] = 'yourkaggleusername'\n",
        "os.environ[\"KAGGLE_KEY\"] = 'yourkagglekey'"
      ],
      "execution_count": 0,
      "outputs": []
    },
    {
      "metadata": {
        "id": "2OGkizcWpChU",
        "colab_type": "code",
        "colab": {
          "base_uri": "https://localhost:8080/",
          "height": 156
        },
        "outputId": "a7bad220-1e7e-4e6f-ebe5-2b601a954bbd"
      },
      "cell_type": "code",
      "source": [
        "# List the competetion data/files\n",
        "!kaggle competitions files -c rsna-pneumonia-detection-challenge"
      ],
      "execution_count": 6,
      "outputs": [
        {
          "output_type": "stream",
          "text": [
            "name                                  size  creationDate         \n",
            "-----------------------------------  -----  -------------------  \n",
            "GCP Credits Request Link - RSNA.txt    55B  2018-08-27 12:32:43  \n",
            "stage_1_detailed_class_info.csv        2MB  2018-08-27 12:32:54  \n",
            "stage_1_sample_submission.csv         52KB  2018-08-27 12:32:54  \n",
            "stage_1_train_labels.csv               1MB  2018-08-27 12:32:54  \n",
            "stage_1_test_images.zip              126MB  2018-08-27 12:32:55  \n",
            "stage_1_train_images.zip               3GB  2018-08-27 12:32:55  \n"
          ],
          "name": "stdout"
        }
      ]
    },
    {
      "metadata": {
        "id": "6luREpRwpWdy",
        "colab_type": "code",
        "colab": {}
      },
      "cell_type": "code",
      "source": [
        "# Download files from kaggle\n",
        "\n",
        "# -c: competition name# -c: c \n",
        "# -f: which file you want to download\n",
        "# -p: path to where the file are to be saved\n",
        "\n",
        "!kaggle competitions download -c rsna-pneumonia-detection-challenge -p data/RSNA/"
      ],
      "execution_count": 0,
      "outputs": []
    },
    {
      "metadata": {
        "id": "UuyY9t-zp5Hq",
        "colab_type": "code",
        "colab": {
          "base_uri": "https://localhost:8080/",
          "height": 69
        },
        "outputId": "892301fb-5772-4397-e719-6e2cd95fc924"
      },
      "cell_type": "code",
      "source": [
        "!ls data/RSNA/"
      ],
      "execution_count": 8,
      "outputs": [
        {
          "output_type": "stream",
          "text": [
            "GCP%20Credits%20Request%20Link%20-%20RSNA.txt  stage_1_test_images.zip\n",
            "stage_1_detailed_class_info.csv.zip\t       stage_1_train_images.zip\n",
            "stage_1_sample_submission.csv\t\t       stage_1_train_labels.csv.zip\n"
          ],
          "name": "stdout"
        }
      ]
    },
    {
      "metadata": {
        "id": "2ZUspECmxEgs",
        "colab_type": "code",
        "colab": {}
      },
      "cell_type": "code",
      "source": [
        "!mkdir data/RSNA/zipped/"
      ],
      "execution_count": 0,
      "outputs": []
    },
    {
      "metadata": {
        "id": "fNofS5eWqIEw",
        "colab_type": "code",
        "colab": {}
      },
      "cell_type": "code",
      "source": [
        "#**************  This takes a considerable amount of time *****************\n",
        "# Unzip the .zip file\n",
        "# -d is the destination\n",
        "\n",
        "!unzip data/RSNA/stage_1_train_labels.csv.zip -d data/RSNA/\n",
        "# mv command is used to move files and directories.\n",
        "# mv command syntax\n",
        "# mv [options] source dest\n",
        "!mv data/RSNA/stage_1_train_labels.csv.zip data/RSNA/zipped/\n",
        "\n",
        "!unzip data/RSNA/stage_1_detailed_class_info.csv.zip -d data/RSNA/\n",
        "!mv data/RSNA/stage_1_detailed_class_info.csv.zip data/RSNA/zipped/\n",
        "\n",
        "!unzip data/RSNA/stage_1_train_images.zip -d data/RSNA/train/\n",
        "!mv data/RSNA/stage_1_train_images.zip data/RSNA/zipped/\n",
        "\n",
        "!unzip data/RSNA/stage_1_test_images.zip -d data/RSNA/test/\n",
        "!mv data/RSNA/stage_1_test_images.zip data/RSNA/zipped/"
      ],
      "execution_count": 0,
      "outputs": []
    },
    {
      "metadata": {
        "id": "OuN2jWkV1ihc",
        "colab_type": "code",
        "colab": {}
      },
      "cell_type": "code",
      "source": [
        "# Install pydicom library\n",
        "\n",
        "!pip install pydicom"
      ],
      "execution_count": 0,
      "outputs": []
    },
    {
      "metadata": {
        "id": "M7H6Vwmfq61S",
        "colab_type": "code",
        "colab": {}
      },
      "cell_type": "code",
      "source": [
        "# Patch dataset.py for the ability to handle *.dcm files\n",
        "\n",
        "import fastai\n",
        "import fastai.dataset\n",
        "import pydicom\n",
        "\n",
        "def isdicom(fn):\n",
        "    '''True if the fn points to a DICOM image'''\n",
        "    if fn.endswith('.dcm'):\n",
        "        return True\n",
        "    # Dicom signature from the dicom spec.\n",
        "    with open(fn) as fh:\n",
        "        fh.seek(0x80)\n",
        "        return fh.read(4)=='DICM'\n",
        "\n",
        "\n",
        "def open_image(fn):\n",
        "    \"\"\" Opens an image using OpenCV given the file path.\n",
        "\n",
        "    Arguments:\n",
        "        fn: the file path of the image\n",
        "\n",
        "    Returns:\n",
        "        The image in RGB format as numpy array of floats normalized to range between 0.0 - 1.0\n",
        "    \"\"\"\n",
        "    flags = cv2.IMREAD_UNCHANGED+cv2.IMREAD_ANYDEPTH+cv2.IMREAD_ANYCOLOR\n",
        "    if not os.path.exists(fn) and not str(fn).startswith(\"http\"):\n",
        "        raise OSError('No such file or directory: {}'.format(fn))\n",
        "    elif os.path.isdir(fn) and not str(fn).startswith(\"http\"):\n",
        "        raise OSError('Is a directory: {}'.format(fn))\n",
        "    elif isdicom(fn):\n",
        "        slice = pydicom.read_file(fn)\n",
        "        if slice.PhotometricInterpretation.startswith('MONOCHROME'):\n",
        "            # Make a fake RGB image\n",
        "            im = np.stack([slice.pixel_array]*3,-1)\n",
        "            return im / ((1 << slice.BitsStored)-1)\n",
        "        else:\n",
        "            # No support for RGB yet, as it involves various color spaces.\n",
        "            # It shouldn't be too difficult to add though, if needed.\n",
        "            raise OSError('Unsupported DICOM image with PhotometricInterpretation=={}'.format(slice.PhotometricInterpretation))\n",
        "    else:\n",
        "        #res = np.array(Image.open(fn), dtype=np.float32)/255\n",
        "        #if len(res.shape)==2: res = np.repeat(res[...,None],3,2)\n",
        "        #return res\n",
        "        try:\n",
        "            if str(fn).startswith(\"http\"):\n",
        "                req = urllib.urlopen(str(fn))\n",
        "                image = np.asarray(bytearray(req.read()), dtype=\"uint8\")\n",
        "                im = cv2.imdecode(image, flags).astype(np.float32)/255\n",
        "            else:\n",
        "                im = cv2.imread(str(fn), flags).astype(np.float32)/255\n",
        "            if im is None: raise OSError(f'File not recognized by opencv: {fn}')\n",
        "            return cv2.cvtColor(im, cv2.COLOR_BGR2RGB)\n",
        "        except Exception as e:\n",
        "            raise OSError('Error handling image at: {}'.format(fn)) from e\n",
        "\n",
        "fastai.dataset.isdicom=isdicom\n",
        "fastai.dataset.pydicom=pydicom\n",
        "fastai.dataset.open_image=open_image"
      ],
      "execution_count": 0,
      "outputs": []
    },
    {
      "metadata": {
        "id": "O8YhaBZD16Tq",
        "colab_type": "code",
        "colab": {
          "base_uri": "https://localhost:8080/",
          "height": 69
        },
        "outputId": "eeff1514-ad4b-4cd8-b11d-b8a79a7b7f29"
      },
      "cell_type": "code",
      "source": [
        "!ls data/RSNA/"
      ],
      "execution_count": 18,
      "outputs": [
        {
          "output_type": "stream",
          "text": [
            "GCP%20Credits%20Request%20Link%20-%20RSNA.txt  stage_1_train_labels.csv  zipped\n",
            "stage_1_detailed_class_info.csv\t\t       test\n",
            "stage_1_sample_submission.csv\t\t       train\n"
          ],
          "name": "stdout"
        }
      ]
    },
    {
      "metadata": {
        "id": "kJTGxwZQq8Q2",
        "colab_type": "code",
        "colab": {
          "base_uri": "https://localhost:8080/",
          "height": 202
        },
        "outputId": "eadabdde-20ec-40dc-88ce-d69cc457f974"
      },
      "cell_type": "code",
      "source": [
        "label_csv = 'data/RSNA/stage_1_train_labels.csv'\n",
        "df_fai = pd.read_csv(label_csv)\n",
        "\n",
        "# Rewrite the train csv file to contain only two columns as expected by fastai\n",
        "df_fai[['patientId','Target']].to_csv('train_target_labels.csv',index=False)\n",
        "\n",
        "label_csv = 'train_target_labels.csv'\n",
        "\n",
        "df_fai = pd.read_csv(label_csv)\n",
        "df_fai.head()"
      ],
      "execution_count": 19,
      "outputs": [
        {
          "output_type": "execute_result",
          "data": {
            "text/html": [
              "<div>\n",
              "<style scoped>\n",
              "    .dataframe tbody tr th:only-of-type {\n",
              "        vertical-align: middle;\n",
              "    }\n",
              "\n",
              "    .dataframe tbody tr th {\n",
              "        vertical-align: top;\n",
              "    }\n",
              "\n",
              "    .dataframe thead th {\n",
              "        text-align: right;\n",
              "    }\n",
              "</style>\n",
              "<table border=\"1\" class=\"dataframe\">\n",
              "  <thead>\n",
              "    <tr style=\"text-align: right;\">\n",
              "      <th></th>\n",
              "      <th>patientId</th>\n",
              "      <th>Target</th>\n",
              "    </tr>\n",
              "  </thead>\n",
              "  <tbody>\n",
              "    <tr>\n",
              "      <th>0</th>\n",
              "      <td>0004cfab-14fd-4e49-80ba-63a80b6bddd6</td>\n",
              "      <td>0</td>\n",
              "    </tr>\n",
              "    <tr>\n",
              "      <th>1</th>\n",
              "      <td>00313ee0-9eaa-42f4-b0ab-c148ed3241cd</td>\n",
              "      <td>0</td>\n",
              "    </tr>\n",
              "    <tr>\n",
              "      <th>2</th>\n",
              "      <td>00322d4d-1c29-4943-afc9-b6754be640eb</td>\n",
              "      <td>0</td>\n",
              "    </tr>\n",
              "    <tr>\n",
              "      <th>3</th>\n",
              "      <td>003d8fa0-6bf1-40ed-b54c-ac657f8495c5</td>\n",
              "      <td>0</td>\n",
              "    </tr>\n",
              "    <tr>\n",
              "      <th>4</th>\n",
              "      <td>00436515-870c-4b36-a041-de91049b9ab4</td>\n",
              "      <td>1</td>\n",
              "    </tr>\n",
              "  </tbody>\n",
              "</table>\n",
              "</div>"
            ],
            "text/plain": [
              "                              patientId  Target\n",
              "0  0004cfab-14fd-4e49-80ba-63a80b6bddd6       0\n",
              "1  00313ee0-9eaa-42f4-b0ab-c148ed3241cd       0\n",
              "2  00322d4d-1c29-4943-afc9-b6754be640eb       0\n",
              "3  003d8fa0-6bf1-40ed-b54c-ac657f8495c5       0\n",
              "4  00436515-870c-4b36-a041-de91049b9ab4       1"
            ]
          },
          "metadata": {
            "tags": []
          },
          "execution_count": 19
        }
      ]
    },
    {
      "metadata": {
        "id": "21_BZ3QYriJS",
        "colab_type": "code",
        "colab": {
          "base_uri": "https://localhost:8080/",
          "height": 52
        },
        "outputId": "4e788521-7f84-45e0-d3dc-07e60909f8e2"
      },
      "cell_type": "code",
      "source": [
        "PATH = 'data/RSNA/'\n",
        "\n",
        "sz = 224\n",
        "f_model = resnet34\n",
        "bs = 64\n",
        "\n",
        "n = len(df_fai)\n",
        "val_idxs = get_cv_idxs(n) # random 20% data for validation set\n",
        "\n",
        "tfms = tfms_from_model(f_model, sz, aug_tfms=transforms_side_on, max_zoom=1.05)\n",
        "\n",
        "data = ImageClassifierData.from_csv(PATH, 'train', label_csv, test_name='test', \n",
        "                                    val_idxs=val_idxs, \n",
        "                                    suffix='.dcm', \n",
        "                                    tfms=tfms,\n",
        "                                    bs=bs)\n",
        "learn = ConvLearner.pretrained(f_model, data)"
      ],
      "execution_count": 20,
      "outputs": [
        {
          "output_type": "stream",
          "text": [
            "Downloading: \"https://download.pytorch.org/models/resnet34-333f7ec4.pth\" to /root/.torch/models/resnet34-333f7ec4.pth\n",
            "100%|██████████| 87306240/87306240 [00:04<00:00, 21669324.13it/s]\n"
          ],
          "name": "stderr"
        }
      ]
    },
    {
      "metadata": {
        "id": "NqN2f-R1uHgk",
        "colab_type": "code",
        "colab": {
          "base_uri": "https://localhost:8080/",
          "height": 52
        },
        "outputId": "8b30b7d8-8d02-4280-ed0e-535f3d8439ce"
      },
      "cell_type": "code",
      "source": [
        "lrf=learn.lr_find()"
      ],
      "execution_count": 21,
      "outputs": [
        {
          "output_type": "display_data",
          "data": {
            "application/vnd.jupyter.widget-view+json": {
              "model_id": "c1f7bd6056114faea137a41c6f04ab68",
              "version_minor": 0,
              "version_major": 2
            },
            "text/plain": [
              "HBox(children=(IntProgress(value=0, description='Epoch', max=1), HTML(value='')))"
            ]
          },
          "metadata": {
            "tags": []
          }
        },
        {
          "output_type": "stream",
          "text": [
            " 83%|████████▎ | 301/363 [07:50<01:07,  1.09s/it, loss=2.54]"
          ],
          "name": "stdout"
        }
      ]
    },
    {
      "metadata": {
        "id": "YzwfWYr8uJzQ",
        "colab_type": "code",
        "colab": {
          "base_uri": "https://localhost:8080/",
          "height": 289
        },
        "outputId": "96f26bb4-e557-4a82-96fc-5bb83631073a"
      },
      "cell_type": "code",
      "source": [
        "learn.sched.plot()"
      ],
      "execution_count": 22,
      "outputs": [
        {
          "output_type": "display_data",
          "data": {
            "image/png": "[encoded data removed]",
            "text/plain": [
              "<matplotlib.figure.Figure at 0x7f2d39523b38>"
            ]
          },
          "metadata": {
            "tags": []
          }
        }
      ]
    },
    {
      "metadata": {
        "id": "0IRd_30VuTTx",
        "colab_type": "code",
        "colab": {
          "base_uri": "https://localhost:8080/",
          "height": 191
        },
        "outputId": "895188fd-99d1-47a0-e66f-59f5f9eb042a"
      },
      "cell_type": "code",
      "source": [
        "lr = 0.002\n",
        "lrs = np.array([lr/9,lr/3,lr])\n",
        "\n",
        "learn.unfreeze()\n",
        "learn.fit(lrs, 3, cycle_len=1, cycle_mult=2)"
      ],
      "execution_count": 23,
      "outputs": [
        {
          "output_type": "display_data",
          "data": {
            "application/vnd.jupyter.widget-view+json": {
              "model_id": "b5951c5322564894a22663bcdee76352",
              "version_minor": 0,
              "version_major": 2
            },
            "text/plain": [
              "HBox(children=(IntProgress(value=0, description='Epoch', max=7), HTML(value='')))"
            ]
          },
          "metadata": {
            "tags": []
          }
        },
        {
          "output_type": "stream",
          "text": [
            "epoch      trn_loss   val_loss   accuracy   \n",
            "    0      0.473784   0.419092   0.808522  \n",
            "    1      0.41161    0.388868   0.821804  \n",
            "    2      0.382222   0.38544    0.824564  \n",
            "    3      0.395901   0.377543   0.824047  \n",
            "    4      0.382444   0.370627   0.828705  \n",
            "    5      0.37131    0.368143   0.830602  \n",
            "    6      0.367595   0.371117   0.83112   \n"
          ],
          "name": "stdout"
        },
        {
          "output_type": "execute_result",
          "data": {
            "text/plain": [
              "[array([0.37112]), 0.8311195445509024]"
            ]
          },
          "metadata": {
            "tags": []
          },
          "execution_count": 23
        }
      ]
    },
    {
      "metadata": {
        "id": "HFFoWdYi6DrK",
        "colab_type": "code",
        "colab": {}
      },
      "cell_type": "code",
      "source": [
        "learn.save('fastai-rsna-v1')"
      ],
      "execution_count": 0,
      "outputs": []
    },
    {
      "metadata": {
        "id": "QxmkPEWWOx5c",
        "colab_type": "code",
        "colab": {
          "base_uri": "https://localhost:8080/",
          "height": 35
        },
        "outputId": "d252cccb-2c19-473f-ee48-c734bacd138b"
      },
      "cell_type": "code",
      "source": [
        "# In my case the trained model is saved here:\n",
        "# Please cross check\n",
        "!ls data/RSNA/models/"
      ],
      "execution_count": 32,
      "outputs": [
        {
          "output_type": "stream",
          "text": [
            "fastai-rsna-v1.h5  tmp.h5\n"
          ],
          "name": "stdout"
        }
      ]
    },
    {
      "metadata": {
        "id": "jQFpt3p9PGwd",
        "colab_type": "code",
        "colab": {}
      },
      "cell_type": "code",
      "source": [
        "from google.colab import files\n",
        "files.download('data/RSNA/models/fastai-rsna-v1.h5')"
      ],
      "execution_count": 0,
      "outputs": []
    },
    {
      "metadata": {
        "id": "BkdsfvbAP-d_",
        "colab_type": "code",
        "colab": {}
      },
      "cell_type": "code",
      "source": [
        ""
      ],
      "execution_count": 0,
      "outputs": []
    }
  ]
}